{
 "cells": [
  {
   "cell_type": "markdown",
   "id": "a7e83fd2",
   "metadata": {},
   "source": [
    "### PROJECT\n",
    "\n",
    "##### Generate a multimodal agent that will take both texts and images and give an output"
   ]
  },
  {
   "cell_type": "markdown",
   "id": "7221a5c2",
   "metadata": {},
   "source": [
    "#### Key Components\n"
   ]
  },
  {
   "cell_type": "markdown",
   "id": "87ad647c",
   "metadata": {},
   "source": [
    "1. State management: Using TypedDict to define and manage the state of each user interaction.\n",
    "\n",
    "2. Workflow Graph: Utilizing LangGraph.\n",
    "\n",
    "3. Initializing the OCR and BLIP to interact with the image."
   ]
  },
  {
   "cell_type": "markdown",
   "id": "b986f949",
   "metadata": {},
   "source": [
    "#### TERMS\n",
    "\n",
    "##### OCR(Optical Character Recognition)\n",
    "###### OCR is a technology that scans an image (like a photo, scanned document, or screenshot) and detects the characters, words, and sometimes even layout.\n",
    "\n",
    "##### BLIP(Bootstrapping Language-Image Pretraining)\n",
    "###### A multimodal model that connects vision (images) and language (text)."
   ]
  },
  {
   "cell_type": "markdown",
   "id": "2a8a9e1d",
   "metadata": {},
   "source": [
    "### Method Details.\n",
    "1. Initializing the .env environment and importing necessary libraries.\n",
    "\n",
    "2. Creating a structure.\n",
    "\n",
    "3. Implementing separate functions.\n",
    "\n",
    "4. Using StateGraph to define the workflow before an output.\n",
    "\n",
    "5. Compliling the graph into an execytable application.\n",
    "\n",
    "6. Genarating an interface to interact with."
   ]
  },
  {
   "cell_type": "code",
   "execution_count": 1,
   "id": "319bf2f6",
   "metadata": {},
   "outputs": [
    {
     "name": "stdout",
     "output_type": "stream",
     "text": [
      "Requirement already satisfied: langgraph in c:\\users\\aden\\appdata\\local\\programs\\python\\python313\\lib\\site-packages (0.6.7)\n",
      "Requirement already satisfied: langchain_groq in c:\\users\\aden\\appdata\\local\\programs\\python\\python313\\lib\\site-packages (0.3.8)\n",
      "Requirement already satisfied: python-dotenv in c:\\users\\aden\\appdata\\local\\programs\\python\\python313\\lib\\site-packages (1.1.1)\n",
      "Requirement already satisfied: transformers in c:\\users\\aden\\appdata\\local\\programs\\python\\python313\\lib\\site-packages (4.56.1)\n",
      "Requirement already satisfied: pillow in c:\\users\\aden\\appdata\\local\\programs\\python\\python313\\lib\\site-packages (11.3.0)\n",
      "Requirement already satisfied: pytesseract in c:\\users\\aden\\appdata\\local\\programs\\python\\python313\\lib\\site-packages (0.3.13)\n",
      "Requirement already satisfied: langchain-core>=0.1 in c:\\users\\aden\\appdata\\local\\programs\\python\\python313\\lib\\site-packages (from langgraph) (0.3.76)\n",
      "Requirement already satisfied: langgraph-checkpoint<3.0.0,>=2.1.0 in c:\\users\\aden\\appdata\\local\\programs\\python\\python313\\lib\\site-packages (from langgraph) (2.1.1)\n",
      "Requirement already satisfied: langgraph-prebuilt<0.7.0,>=0.6.0 in c:\\users\\aden\\appdata\\local\\programs\\python\\python313\\lib\\site-packages (from langgraph) (0.6.4)\n",
      "Requirement already satisfied: langgraph-sdk<0.3.0,>=0.2.2 in c:\\users\\aden\\appdata\\local\\programs\\python\\python313\\lib\\site-packages (from langgraph) (0.2.9)\n",
      "Requirement already satisfied: pydantic>=2.7.4 in c:\\users\\aden\\appdata\\local\\programs\\python\\python313\\lib\\site-packages (from langgraph) (2.11.7)\n",
      "Requirement already satisfied: xxhash>=3.5.0 in c:\\users\\aden\\appdata\\local\\programs\\python\\python313\\lib\\site-packages (from langgraph) (3.5.0)\n",
      "Requirement already satisfied: ormsgpack>=1.10.0 in c:\\users\\aden\\appdata\\local\\programs\\python\\python313\\lib\\site-packages (from langgraph-checkpoint<3.0.0,>=2.1.0->langgraph) (1.10.0)\n",
      "Requirement already satisfied: httpx>=0.25.2 in c:\\users\\aden\\appdata\\local\\programs\\python\\python313\\lib\\site-packages (from langgraph-sdk<0.3.0,>=0.2.2->langgraph) (0.28.1)\n",
      "Requirement already satisfied: orjson>=3.10.1 in c:\\users\\aden\\appdata\\local\\programs\\python\\python313\\lib\\site-packages (from langgraph-sdk<0.3.0,>=0.2.2->langgraph) (3.11.3)\n",
      "Requirement already satisfied: groq<1,>=0.30.0 in c:\\users\\aden\\appdata\\local\\programs\\python\\python313\\lib\\site-packages (from langchain_groq) (0.31.1)\n",
      "Requirement already satisfied: anyio<5,>=3.5.0 in c:\\users\\aden\\appdata\\local\\programs\\python\\python313\\lib\\site-packages (from groq<1,>=0.30.0->langchain_groq) (4.10.0)\n",
      "Requirement already satisfied: distro<2,>=1.7.0 in c:\\users\\aden\\appdata\\local\\programs\\python\\python313\\lib\\site-packages (from groq<1,>=0.30.0->langchain_groq) (1.9.0)\n",
      "Requirement already satisfied: sniffio in c:\\users\\aden\\appdata\\local\\programs\\python\\python313\\lib\\site-packages (from groq<1,>=0.30.0->langchain_groq) (1.3.1)\n",
      "Requirement already satisfied: typing-extensions<5,>=4.10 in c:\\users\\aden\\appdata\\local\\programs\\python\\python313\\lib\\site-packages (from groq<1,>=0.30.0->langchain_groq) (4.14.1)\n",
      "Requirement already satisfied: idna>=2.8 in c:\\users\\aden\\appdata\\local\\programs\\python\\python313\\lib\\site-packages (from anyio<5,>=3.5.0->groq<1,>=0.30.0->langchain_groq) (3.10)\n",
      "Requirement already satisfied: certifi in c:\\users\\aden\\appdata\\local\\programs\\python\\python313\\lib\\site-packages (from httpx>=0.25.2->langgraph-sdk<0.3.0,>=0.2.2->langgraph) (2025.7.14)\n",
      "Requirement already satisfied: httpcore==1.* in c:\\users\\aden\\appdata\\local\\programs\\python\\python313\\lib\\site-packages (from httpx>=0.25.2->langgraph-sdk<0.3.0,>=0.2.2->langgraph) (1.0.9)\n",
      "Requirement already satisfied: h11>=0.16 in c:\\users\\aden\\appdata\\local\\programs\\python\\python313\\lib\\site-packages (from httpcore==1.*->httpx>=0.25.2->langgraph-sdk<0.3.0,>=0.2.2->langgraph) (0.16.0)\n",
      "Requirement already satisfied: langsmith>=0.3.45 in c:\\users\\aden\\appdata\\local\\programs\\python\\python313\\lib\\site-packages (from langchain-core>=0.1->langgraph) (0.4.27)\n",
      "Requirement already satisfied: tenacity!=8.4.0,<10.0.0,>=8.1.0 in c:\\users\\aden\\appdata\\local\\programs\\python\\python313\\lib\\site-packages (from langchain-core>=0.1->langgraph) (9.1.2)\n",
      "Requirement already satisfied: jsonpatch<2.0,>=1.33 in c:\\users\\aden\\appdata\\local\\programs\\python\\python313\\lib\\site-packages (from langchain-core>=0.1->langgraph) (1.33)\n",
      "Requirement already satisfied: PyYAML>=5.3 in c:\\users\\aden\\appdata\\local\\programs\\python\\python313\\lib\\site-packages (from langchain-core>=0.1->langgraph) (6.0.2)\n",
      "Requirement already satisfied: packaging>=23.2 in c:\\users\\aden\\appdata\\roaming\\python\\python313\\site-packages (from langchain-core>=0.1->langgraph) (25.0)\n",
      "Requirement already satisfied: jsonpointer>=1.9 in c:\\users\\aden\\appdata\\local\\programs\\python\\python313\\lib\\site-packages (from jsonpatch<2.0,>=1.33->langchain-core>=0.1->langgraph) (3.0.0)\n",
      "Requirement already satisfied: annotated-types>=0.6.0 in c:\\users\\aden\\appdata\\local\\programs\\python\\python313\\lib\\site-packages (from pydantic>=2.7.4->langgraph) (0.7.0)\n",
      "Requirement already satisfied: pydantic-core==2.33.2 in c:\\users\\aden\\appdata\\local\\programs\\python\\python313\\lib\\site-packages (from pydantic>=2.7.4->langgraph) (2.33.2)\n",
      "Requirement already satisfied: typing-inspection>=0.4.0 in c:\\users\\aden\\appdata\\local\\programs\\python\\python313\\lib\\site-packages (from pydantic>=2.7.4->langgraph) (0.4.1)\n",
      "Requirement already satisfied: filelock in c:\\users\\aden\\appdata\\local\\programs\\python\\python313\\lib\\site-packages (from transformers) (3.19.1)\n",
      "Requirement already satisfied: huggingface-hub<1.0,>=0.34.0 in c:\\users\\aden\\appdata\\local\\programs\\python\\python313\\lib\\site-packages (from transformers) (0.34.4)\n",
      "Requirement already satisfied: numpy>=1.17 in c:\\users\\aden\\appdata\\local\\programs\\python\\python313\\lib\\site-packages (from transformers) (2.3.1)\n",
      "Requirement already satisfied: regex!=2019.12.17 in c:\\users\\aden\\appdata\\local\\programs\\python\\python313\\lib\\site-packages (from transformers) (2025.9.1)\n",
      "Requirement already satisfied: requests in c:\\users\\aden\\appdata\\local\\programs\\python\\python313\\lib\\site-packages (from transformers) (2.32.5)\n",
      "Requirement already satisfied: tokenizers<=0.23.0,>=0.22.0 in c:\\users\\aden\\appdata\\local\\programs\\python\\python313\\lib\\site-packages (from transformers) (0.22.0)\n",
      "Requirement already satisfied: safetensors>=0.4.3 in c:\\users\\aden\\appdata\\local\\programs\\python\\python313\\lib\\site-packages (from transformers) (0.6.2)\n",
      "Requirement already satisfied: tqdm>=4.27 in c:\\users\\aden\\appdata\\local\\programs\\python\\python313\\lib\\site-packages (from transformers) (4.67.1)\n",
      "Requirement already satisfied: fsspec>=2023.5.0 in c:\\users\\aden\\appdata\\local\\programs\\python\\python313\\lib\\site-packages (from huggingface-hub<1.0,>=0.34.0->transformers) (2025.9.0)\n",
      "Requirement already satisfied: requests-toolbelt>=1.0.0 in c:\\users\\aden\\appdata\\local\\programs\\python\\python313\\lib\\site-packages (from langsmith>=0.3.45->langchain-core>=0.1->langgraph) (1.0.0)\n",
      "Requirement already satisfied: zstandard>=0.23.0 in c:\\users\\aden\\appdata\\local\\programs\\python\\python313\\lib\\site-packages (from langsmith>=0.3.45->langchain-core>=0.1->langgraph) (0.24.0)\n",
      "Requirement already satisfied: charset_normalizer<4,>=2 in c:\\users\\aden\\appdata\\local\\programs\\python\\python313\\lib\\site-packages (from requests->transformers) (3.4.2)\n",
      "Requirement already satisfied: urllib3<3,>=1.21.1 in c:\\users\\aden\\appdata\\local\\programs\\python\\python313\\lib\\site-packages (from requests->transformers) (2.5.0)\n",
      "Requirement already satisfied: colorama in c:\\users\\aden\\appdata\\roaming\\python\\python313\\site-packages (from tqdm>=4.27->transformers) (0.4.6)\n"
     ]
    }
   ],
   "source": [
    "!pip install langgraph langchain_groq python-dotenv transformers pillow pytesseract"
   ]
  },
  {
   "cell_type": "code",
   "execution_count": 1,
   "id": "47ccfb47",
   "metadata": {},
   "outputs": [],
   "source": [
    "#Import Libraries\n",
    "import os\n",
    "from typing import TypedDict\n",
    "from dotenv import load_dotenv\n",
    "from langgraph.graph import StateGraph, END\n",
    "from langchain_core.prompts import ChatPromptTemplate\n",
    "from langchain_core.runnables.graph import MermaidDrawMethod\n",
    "from langchain_groq import ChatGroq\n",
    "from IPython.display import display, Image as IPyImage\n",
    "from PIL import Image\n",
    "import pytesseract\n",
    "from transformers import BlipProcessor, BlipForConditionalGeneration"
   ]
  },
  {
   "cell_type": "code",
   "execution_count": 2,
   "id": "a3f0acf3",
   "metadata": {},
   "outputs": [
    {
     "name": "stdout",
     "output_type": "stream",
     "text": [
      "Groq API key loaded successfully!\n"
     ]
    }
   ],
   "source": [
    "#Load the API\n",
    "load_dotenv()\n",
    "groq_api_key = os.getenv(\"GROQ_API_KEY\")\n",
    "\n",
    "if groq_api_key:\n",
    "    print(\"Groq API key loaded successfully!\")\n",
    "else:\n",
    "    print(\"Error: Missing Groq API key in .env file\")"
   ]
  },
  {
   "cell_type": "code",
   "execution_count": 3,
   "id": "43befe80",
   "metadata": {},
   "outputs": [],
   "source": [
    "#Define state structure\n",
    "class State(TypedDict):\n",
    "    query: str\n",
    "    image_path: str\n",
    "    image_description: str\n",
    "    ocr_text: str\n",
    "    response: str"
   ]
  },
  {
   "cell_type": "code",
   "execution_count": 4,
   "id": "6af3537f",
   "metadata": {},
   "outputs": [],
   "source": [
    "#Initialize the Groq LLM \n",
    "llm = ChatGroq(\n",
    "    temperature=0,\n",
    "    groq_api_key=groq_api_key,\n",
    "    model_name=\"llama-3.1-8b-instant\"\n",
    ")"
   ]
  },
  {
   "cell_type": "code",
   "execution_count": 5,
   "id": "fa9793bf",
   "metadata": {},
   "outputs": [
    {
     "data": {
      "text/plain": [
       "'A cat, also known as a domestic cat or housecat, is a small, typically furry, carnivorous mammal that is often kept as a pet. Cats are members of the family Felidae and are closely related to other big cats, such as lions, tigers, and leopards.\\n\\nPhysical Characteristics:\\n\\n* Cats have a slender body, typically between 8-12 inches (20-30 cm) in length, and weigh between 8-20 pounds (3.5-9 kg).\\n* They have a short, smooth coat that can be various colors and patterns, including solid, tabby, tortoiseshell, and calico.\\n* Cats have retractable claws, which they use for climbing, hunting, and self-defense.\\n* They have large, round eyes that are sensitive to light and can see in low light conditions.\\n* Cats have a short, flexible spine that allows them to twist and turn with ease.\\n\\nBehavior:\\n\\n* Cats are known for their independence and aloofness, but they can also be affectionate and playful.\\n* They are natural predators and have a strong instinct to hunt and kill small animals, such as mice and birds.\\n* Cats are highly territorial and have a strong sense of smell, which they use to mark their territory and detect potential threats.\\n* They are generally quiet animals, but they can meow, purr, and hiss to communicate with humans and other animals.\\n\\nHabitat:\\n\\n* Cats are found in a wide range of habitats, including deserts, forests, and urban areas.\\n* They are adaptable to different environments and can thrive in a variety of conditions.\\n* In the wild, cats are solitary animals and have a large home range, which they mark with scent and scratch marks.\\n\\nDomestication:\\n\\n* Cats have been domesticated for thousands of years, with evidence of cat domestication dating back to ancient Egypt around 4,000 years ago.\\n* Domesticated cats are often kept as pets and are fed a diet of commercial cat food, which is designed to meet their nutritional needs.\\n* They are also used for pest control, as they are effective at hunting and killing small rodents and other pests.\\n\\nOverall, cats are fascinating animals that have adapted to a wide range of environments and have become an integral part of human society.'"
      ]
     },
     "execution_count": 5,
     "metadata": {},
     "output_type": "execute_result"
    }
   ],
   "source": [
    "#testing the model\n",
    "result = llm.invoke(\"what is a cat\")\n",
    "result.content"
   ]
  },
  {
   "cell_type": "code",
   "execution_count": 6,
   "id": "2eda4a36",
   "metadata": {},
   "outputs": [
    {
     "name": "stderr",
     "output_type": "stream",
     "text": [
      "Using a slow image processor as `use_fast` is unset and a slow processor was saved with this model. `use_fast=True` will be the default behavior in v4.52, even if the model was saved with a slow processor. This will result in minor differences in outputs. You'll still be able to use a slow processor with `use_fast=False`.\n"
     ]
    },
    {
     "data": {
      "application/vnd.jupyter.widget-view+json": {
       "model_id": "aeed5594999b4ae6a687ad8dd08216b2",
       "version_major": 2,
       "version_minor": 0
      },
      "text/plain": [
       "Fetching 1 files:   0%|          | 0/1 [00:00<?, ?it/s]"
      ]
     },
     "metadata": {},
     "output_type": "display_data"
    }
   ],
   "source": [
    "#initialize the BLIP model for image captioning\n",
    "processor = BlipProcessor.from_pretrained(\"Salesforce/blip-image-captioning-base\")\n",
    "blip_model = BlipForConditionalGeneration.from_pretrained(\"Salesforce/blip-image-captioning-base\")\n"
   ]
  },
  {
   "cell_type": "code",
   "execution_count": 7,
   "id": "ac1bed00",
   "metadata": {},
   "outputs": [],
   "source": [
    "def describe_image(state: State) -> State:\n",
    "    \"\"\"Generate a caption for the image using BLIP\"\"\"\n",
    "    try:\n",
    "        raw_image = Image.open(state[\"image_path\"]).convert(\"RGB\")\n",
    "        inputs = processor(raw_image, return_tensors=\"pt\")\n",
    "        out = blip_model.generate(**inputs, max_length=50)\n",
    "        caption = processor.decode(out[0], skip_special_tokens=True)\n",
    "    except Exception as e:\n",
    "        caption = f\"Could not caption image: {str(e)}\"\n",
    "    return {\"image_description\": caption}"
   ]
  },
  {
   "cell_type": "code",
   "execution_count": 8,
   "id": "898aff9e",
   "metadata": {},
   "outputs": [],
   "source": [
    "def extract_text(state: State) -> State:\n",
    "    \"\"\"Extract visible text from the image using OCR\"\"\"\n",
    "    try:\n",
    "        raw_image = Image.open(state[\"image_path\"])\n",
    "        ocr_result = pytesseract.image_to_string(raw_image)\n",
    "    except Exception as e:\n",
    "        ocr_result = f\"OCR failed: {str(e)}\"\n",
    "    return {\"ocr_text\": ocr_result.strip()}"
   ]
  },
  {
   "cell_type": "code",
   "execution_count": 9,
   "id": "d5191d28",
   "metadata": {},
   "outputs": [],
   "source": [
    "#Initialise Groq\n",
    "def reason_with_groq(state: State) -> State:\n",
    "    \"\"\"Use Groq LLM to reason on query + image description + OCR text\"\"\"\n",
    "    prompt = ChatPromptTemplate.from_template(\"\"\"\n",
    "    You are a multimodal AI assistant. First describe the image, then answer the user's query.\n",
    "    \n",
    "    - Image description: {image_description}\n",
    "    - OCR text: {ocr_text}\n",
    "    - User query: {query}\n",
    "    \n",
    "    Provide a thoughtful, detailed response.\n",
    "    \"\"\")\n",
    "    chain = prompt | llm\n",
    "    response = chain.invoke({\n",
    "        \"image_description\": state[\"image_description\"],\n",
    "        \"ocr_text\": state[\"ocr_text\"],\n",
    "        \"query\": state[\"query\"]\n",
    "    }).content\n",
    "    return {\"response\": response}"
   ]
  },
  {
   "cell_type": "code",
   "execution_count": 10,
   "id": "753807c0",
   "metadata": {},
   "outputs": [],
   "source": [
    "#Crafting the workflow\n",
    "workflow = StateGraph(State)\n",
    "\n",
    "workflow.add_node(\"describe_image\", describe_image)\n",
    "workflow.add_node(\"extract_text\", extract_text)\n",
    "workflow.add_node(\"reason_with_groq\", reason_with_groq)\n",
    "\n",
    "workflow.set_entry_point(\"describe_image\")\n",
    "workflow.add_edge(\"describe_image\", \"extract_text\")\n",
    "workflow.add_edge(\"extract_text\", \"reason_with_groq\")\n",
    "workflow.add_edge(\"reason_with_groq\", END)\n",
    "\n",
    "app = workflow.compile()"
   ]
  },
  {
   "cell_type": "code",
   "execution_count": 11,
   "id": "f40a9f24",
   "metadata": {},
   "outputs": [
    {
     "data": {
      "image/png": "[encoded data removed]",
      "text/plain": [
       "<IPython.core.display.Image object>"
      ]
     },
     "metadata": {},
     "output_type": "display_data"
    }
   ],
   "source": [
    "#Visualize the graph\n",
    "display(IPyImage(app.get_graph().draw_mermaid_png(draw_method=MermaidDrawMethod.API)))"
   ]
  },
  {
   "cell_type": "code",
   "execution_count": 12,
   "id": "629249c0",
   "metadata": {},
   "outputs": [],
   "source": [
    "#Running the agent\n",
    "def run_agent(query: str, image_path: str) -> dict:\n",
    "    result = app.invoke({\"query\": query, \"image_path\": image_path})\n",
    "    return {\n",
    "        \"image_description\": result[\"image_description\"],\n",
    "        \"ocr_text\": result[\"ocr_text\"],\n",
    "        \"response\": result[\"response\"]\n",
    "    }"
   ]
  },
  {
   "cell_type": "code",
   "execution_count": 13,
   "id": "e34b790f",
   "metadata": {},
   "outputs": [
    {
     "name": "stdout",
     "output_type": "stream",
     "text": [
      " Image Description: a man in a soccer uniform is running\n",
      " OCR Extracted Text: OCR failed: tesseract is not installed or it's not in your PATH. See README file for more information.\n",
      " Final Answer: Based on the image description, I can infer that the scene depicts a man in a soccer uniform, which suggests that he is likely a soccer player. The fact that he is running implies that he is in the midst of a game or a training session.\n",
      "\n",
      "Given the context of a soccer player running, it is likely that he is either chasing after the ball, trying to catch up to an opponent, or sprinting down the field to gain an advantage. The image may be a snapshot of a dynamic moment in the game, capturing the player's speed and agility as he moves across the field.\n",
      "\n",
      "Without more information or context, it is difficult to provide a more specific answer. However, based on the image description alone, it is clear that the man in the soccer uniform is engaged in a high-intensity physical activity, likely related to soccer.\n"
     ]
    }
   ],
   "source": [
    "# # Test with images from my desktop\n",
    "test_query = \"What is happening in this picture?\"\n",
    "test_image = \"5.jpg\"  # replace with your own image path\n",
    "\n",
    "output = run_agent(test_query, test_image)\n",
    "\n",
    "print(\" Image Description:\", output[\"image_description\"])\n",
    "print(\" OCR Extracted Text:\", output[\"ocr_text\"])\n",
    "print(\" Final Answer:\", output[\"response\"])"
   ]
  },
  {
   "cell_type": "code",
   "execution_count": 14,
   "id": "daa9eb50",
   "metadata": {},
   "outputs": [
    {
     "name": "stdout",
     "output_type": "stream",
     "text": [
      " Image Description: the girl in the dark is looking at the camera\n",
      "OCR Extracted Text: OCR failed: tesseract is not installed or it's not in your PATH. See README file for more information.\n",
      " Final Answer: Based on the provided image description, I can infer that the picture shows a girl who is likely in a dimly lit or nighttime environment. She is directly looking at the camera, which suggests that she is either being photographed or is in a situation where she feels comfortable enough to be in front of the camera.\n",
      "\n",
      "Given the lack of text from the OCR, I can only rely on the image description to provide context. However, I can make some educated guesses about what might be happening in the picture.\n",
      "\n",
      "It's possible that the girl is in a situation where she feels a sense of vulnerability or intimacy, as she is directly looking at the camera. This could be due to a variety of reasons, such as being in a romantic setting, a moment of introspection, or even a sense of defiance.\n",
      "\n",
      "Alternatively, the girl might be in a situation where she is trying to convey a message or tell a story through her expression. Her direct gaze at the camera could be a way of engaging with the viewer and drawing them into the scene.\n",
      "\n",
      "Without more information or context, it's difficult to say for certain what is happening in the picture. However, based on the image description, it's clear that the girl is in a moment of quiet contemplation or introspection, and her direct gaze at the camera invites the viewer to join her in that moment.\n",
      "\n",
      "If you have any additional information or context about the picture, I would be happy to try and provide a more specific interpretation.\n"
     ]
    }
   ],
   "source": [
    "# Test with images from my desktop\n",
    "test_query = \"What is happening in this picture?\"\n",
    "test_image = \"Images/14.jpg\"  # replace with your own image path\n",
    "\n",
    "output = run_agent(test_query, test_image)\n",
    "\n",
    "print(\" Image Description:\", output[\"image_description\"])\n",
    "print(\"OCR Extracted Text:\", output[\"ocr_text\"])\n",
    "print(\" Final Answer:\", output[\"response\"])"
   ]
  },
  {
   "cell_type": "code",
   "execution_count": 15,
   "id": "350f2f7a",
   "metadata": {},
   "outputs": [
    {
     "name": "stdout",
     "output_type": "stream",
     "text": [
      "* Running on local URL:  http://127.0.0.1:7870\n",
      "* To create a public link, set `share=True` in `launch()`.\n"
     ]
    },
    {
     "data": {
      "text/html": [
       "<div><iframe src=\"http://127.0.0.1:7870/\" width=\"100%\" height=\"500\" allow=\"autoplay; camera; microphone; clipboard-read; clipboard-write;\" frameborder=\"0\" allowfullscreen></iframe></div>"
      ],
      "text/plain": [
       "<IPython.core.display.HTML object>"
      ]
     },
     "metadata": {},
     "output_type": "display_data"
    },
    {
     "data": {
      "text/plain": []
     },
     "execution_count": 15,
     "metadata": {},
     "output_type": "execute_result"
    }
   ],
   "source": [
    "import gradio as gr\n",
    "\n",
    "def multimodal_agent_ui(query, image):\n",
    "    if image is not None:  # Case 1: Image provided\n",
    "        temp_path = \"temp_image.jpg\"\n",
    "        image.save(temp_path)\n",
    "        result = run_agent(query, temp_path)\n",
    "        return f\"\"\" **Image Description:** {result['image_description']}  \n",
    "**OCR Text:** {result['ocr_text']}  \n",
    "**Answer:** {result['response']}\"\"\"\n",
    "    \n",
    "    else:  #Only text question\n",
    "        # Just use Groq LLM directly\n",
    "        prompt = f\"User question: {query}\\n\\nAnswer thoughtfully as an AI assistant.\"\n",
    "        response = llm.invoke(prompt).content\n",
    "        return f\"**Answer (Text-only):** {response}\"\n",
    "\n",
    "# Create UI\n",
    "demo = gr.Interface(\n",
    "    fn=multimodal_agent_ui,\n",
    "    theme='Yntec/HaleyCH_Theme_Orange_Green',\n",
    "    inputs=[\n",
    "        gr.Textbox(label=\"Your Question\"),\n",
    "        gr.Image(type=\"pil\", label=\"Upload an Image (Optional)\")\n",
    "    ],\n",
    "    outputs=gr.Markdown(label=\"Agent Response\"),\n",
    "    title=\" Multimodal AI Agent\",\n",
    "    description=\"Ask any question. Optionally upload an image for multimodal reasoning.\"\n",
    ")\n",
    "\n",
    "# Launch UI\n",
    "demo.launch()"
   ]
  },
  {
   "cell_type": "code",
   "execution_count": null,
   "id": "1050b7df",
   "metadata": {},
   "outputs": [],
   "source": []
  }
 ],
 "metadata": {
  "kernelspec": {
   "display_name": "Python 3",
   "language": "python",
   "name": "python3"
  },
  "language_info": {
   "codemirror_mode": {
    "name": "ipython",
    "version": 3
   },
   "file_extension": ".py",
   "mimetype": "text/x-python",
   "name": "python",
   "nbconvert_exporter": "python",
   "pygments_lexer": "ipython3",
   "version": "3.13.5"
  }
 },
 "nbformat": 4,
 "nbformat_minor": 5
}
